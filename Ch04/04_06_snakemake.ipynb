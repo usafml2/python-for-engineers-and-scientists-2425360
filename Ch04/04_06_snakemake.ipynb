{
 "cells": [
  {
   "cell_type": "markdown",
   "metadata": {},
   "source": [
    "# 04_06_snakemake.ipynb - Scientific workflows with Snakemake"
   ]
  },
  {
   "cell_type": "code",
   "execution_count": null,
   "metadata": {},
   "outputs": [],
   "source": [
    "%pip install snakemake"
   ]
  },
  {
   "cell_type": "code",
   "execution_count": 4,
   "metadata": {},
   "outputs": [
    {
     "name": "stdout",
     "output_type": "stream",
     "text": [
      "Overwriting Snakefile\n"
     ]
    }
   ],
   "source": [
    "%%file Snakefile\n",
    "\n",
    "events = ['GW170817-v3', 'GW190521_074359-v1', 'GW190814-v2', 'GW190412-v3',\n",
    "          'GW190828_063405-v1', 'GW170814-v3', 'GW170608-v3', 'GW190408_181802-v1',\n",
    "          'GW190521-v3']\n",
    "\n",
    "rule stack:\n",
    "    input:\n",
    "        expand(\"events/{id}.png\", id=events)\n",
    "    output:\n",
    "        \"events/allevents.png\"\n",
    "    run:\n",
    "        from PIL import Image\n",
    "        import numpy as np\n",
    "        \n",
    "        # load all images to numpy arrays\n",
    "        images = [np.array(Image.open(imagefile)) for imagefile in input]\n",
    "        # stack the arrays vertically\n",
    "        stacked = np.vstack(images)\n",
    "        # convert stacked array to PIL image, then save \n",
    "        Image.fromarray(stacked).save(output[0])\n",
    "\n",
    "rule plot:\n",
    "    input:\n",
    "        \"events/{id}.json\"\n",
    "    output:\n",
    "        \"events/{id}.png\"\n",
    "    shell:\n",
    "        \"python plotsignal.py {wildcards.id} -C events\"\n",
    "        \n",
    "rule download:\n",
    "    output:\n",
    "        \"events/{id}.json\"\n",
    "    shell:\n",
    "        \"python hdfdownload.py {wildcards.id} -C events\""
   ]
  },
  {
   "cell_type": "code",
   "execution_count": 5,
   "metadata": {},
   "outputs": [
    {
     "name": "stdout",
     "output_type": "stream",
     "text": [
      "\u001b[33mAssuming unrestricted shared filesystem usage.\u001b[0m\n",
      "\u001b[33mhost: codespaces-62e845\u001b[0m\n",
      "\u001b[33mBuilding DAG of jobs...\u001b[0m\n",
      "\u001b[33mUsing shell: /usr/bin/bash\u001b[0m\n",
      "\u001b[32mProvided cores: 1 (use --cores to define parallelism)\u001b[0m\n",
      "\u001b[32mRules claiming more threads will be scaled down.\u001b[0m\n",
      "\u001b[33mJob stats:\n",
      "job         count\n",
      "--------  -------\n",
      "download        1\n",
      "total           1\n",
      "\u001b[0m\n",
      "\u001b[33mSelect jobs to execute...\u001b[0m\n",
      "\u001b[33mExecute 1 jobs...\u001b[0m\n",
      "\n",
      "\u001b[32m[Wed Jul 23 15:10:34 2025]\n",
      "localrule download:\n",
      "    output: events/GW150914-v3.json\n",
      "    jobid: 0\n",
      "    reason: Missing output files: events/GW150914-v3.json\n",
      "    wildcards: id=GW150914-v3\n",
      "    resources: tmpdir=/tmp\u001b[0m\n",
      "Downloading https://www.gw-openscience.org/eventapi/json/allevents to events/catalog.json.\n",
      "Downloading https://gwosc.org/eventapi/json/GWTC-1-confident/GW150914/v3 to events/GW150914-v3.json.\n",
      "Downloading https://gwosc.org/eventapi/json/GWTC-1-confident/GW150914/v3/H-H1_GWOSC_4KHZ_R1-1126259447-32.hdf5 to events/H1-GW150914-v3.hdf5.\n",
      "Downloading https://gwosc.org/eventapi/json/GWTC-1-confident/GW150914/v3/L-L1_GWOSC_4KHZ_R1-1126259447-32.hdf5 to events/L1-GW150914-v3.hdf5.\n",
      "\u001b[32m[Wed Jul 23 15:10:38 2025]\n",
      "Finished jobid: 0 (Rule: download)\u001b[0m\n",
      "\u001b[32m1 of 1 steps (100%) done\u001b[0m\n",
      "\u001b[33mComplete log(s): /workspaces/python-for-engineers-and-scientists-2425360/Ch04/.snakemake/log/2025-07-23T151034.642278.snakemake.log\u001b[0m\n"
     ]
    }
   ],
   "source": [
    "!snakemake -j 1 events/GW150914-v3.json"
   ]
  },
  {
   "cell_type": "code",
   "execution_count": null,
   "metadata": {},
   "outputs": [],
   "source": [
    "!snakemake -j 1 events/GW170817-v3.png"
   ]
  },
  {
   "cell_type": "code",
   "execution_count": null,
   "metadata": {},
   "outputs": [],
   "source": [
    "!snakemake -n"
   ]
  },
  {
   "cell_type": "code",
   "execution_count": null,
   "metadata": {},
   "outputs": [],
   "source": [
    "!snakemake -j 4"
   ]
  },
  {
   "cell_type": "code",
   "execution_count": null,
   "metadata": {},
   "outputs": [],
   "source": [
    "# on Windows !start events/allevents.png\n",
    "!open events/allevents.png"
   ]
  }
 ],
 "metadata": {
  "kernelspec": {
   "display_name": "Python 3",
   "language": "python",
   "name": "python3"
  },
  "language_info": {
   "codemirror_mode": {
    "name": "ipython",
    "version": 3
   },
   "file_extension": ".py",
   "mimetype": "text/x-python",
   "name": "python",
   "nbconvert_exporter": "python",
   "pygments_lexer": "ipython3",
   "version": "3.12.1"
  },
  "toc": {
   "base_numbering": 1,
   "nav_menu": {},
   "number_sections": true,
   "sideBar": true,
   "skip_h1_title": false,
   "title_cell": "Table of Contents",
   "title_sidebar": "Contents",
   "toc_cell": false,
   "toc_position": {},
   "toc_section_display": true,
   "toc_window_display": false
  }
 },
 "nbformat": 4,
 "nbformat_minor": 4
}
