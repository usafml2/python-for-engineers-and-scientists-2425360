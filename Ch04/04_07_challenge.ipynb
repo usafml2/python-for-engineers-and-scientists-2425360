{
 "cells": [
  {
   "cell_type": "markdown",
   "metadata": {},
   "source": [
    "# 04_07_challenge.ipynb - Perfect numbers"
   ]
  },
  {
   "cell_type": "code",
   "execution_count": 1,
   "metadata": {},
   "outputs": [],
   "source": [
    "import sympy"
   ]
  },
  {
   "cell_type": "code",
   "execution_count": 2,
   "metadata": {},
   "outputs": [
    {
     "data": {
      "text/plain": [
       "[1, 2, 4, 8, 16, 31, 62, 124, 248, 496]"
      ]
     },
     "execution_count": 2,
     "metadata": {},
     "output_type": "execute_result"
    }
   ],
   "source": [
    "sympy.divisors(496)"
   ]
  },
  {
   "cell_type": "code",
   "execution_count": 3,
   "metadata": {},
   "outputs": [
    {
     "data": {
      "text/plain": [
       "496"
      ]
     },
     "execution_count": 3,
     "metadata": {},
     "output_type": "execute_result"
    }
   ],
   "source": [
    "sum(sympy.divisors(496)[:-1])"
   ]
  },
  {
   "cell_type": "code",
   "execution_count": 4,
   "metadata": {},
   "outputs": [
    {
     "data": {
      "text/plain": [
       "[1, 2, 4, 8, 16, 32, 64]"
      ]
     },
     "execution_count": 4,
     "metadata": {},
     "output_type": "execute_result"
    }
   ],
   "source": [
    "[2**k for k in range(7)]"
   ]
  },
  {
   "cell_type": "code",
   "execution_count": 5,
   "metadata": {},
   "outputs": [
    {
     "data": {
      "text/plain": [
       "127"
      ]
     },
     "execution_count": 5,
     "metadata": {},
     "output_type": "execute_result"
    }
   ],
   "source": [
    "sum(2**k for k in range(7))"
   ]
  },
  {
   "cell_type": "code",
   "execution_count": 6,
   "metadata": {},
   "outputs": [
    {
     "data": {
      "text/plain": [
       "True"
      ]
     },
     "execution_count": 6,
     "metadata": {},
     "output_type": "execute_result"
    }
   ],
   "source": [
    "sympy.isprime(127)"
   ]
  },
  {
   "cell_type": "code",
   "execution_count": 7,
   "metadata": {},
   "outputs": [
    {
     "data": {
      "text/plain": [
       "8128"
      ]
     },
     "execution_count": 7,
     "metadata": {},
     "output_type": "execute_result"
    }
   ],
   "source": [
    "sum(2**k for k in range(7)) * 64"
   ]
  },
  {
   "cell_type": "code",
   "execution_count": 8,
   "metadata": {},
   "outputs": [
    {
     "data": {
      "text/plain": [
       "8128"
      ]
     },
     "execution_count": 8,
     "metadata": {},
     "output_type": "execute_result"
    }
   ],
   "source": [
    "sum(sympy.divisors(8128)[:-1])"
   ]
  },
  {
   "cell_type": "code",
   "execution_count": 9,
   "metadata": {},
   "outputs": [
    {
     "name": "stdout",
     "output_type": "stream",
     "text": [
      "2 6\n",
      "3 28\n",
      "5 496\n",
      "7 8128\n"
     ]
    }
   ],
   "source": [
    "for n in range(10):\n",
    "    s = sum(2**k for k in range(n))\n",
    "    \n",
    "    if sympy.isprime(s):\n",
    "        print(n, s * 2**(n-1))"
   ]
  },
  {
   "cell_type": "code",
   "execution_count": 11,
   "metadata": {},
   "outputs": [
    {
     "name": "stdout",
     "output_type": "stream",
     "text": [
      "Perfect numbers up to 2^20:\n",
      "6\n",
      "28\n",
      "496\n",
      "8128\n",
      "\n"
     ]
    }
   ],
   "source": [
    "# --- Step 1: Parameters ---\n",
    "limit = 2**20  # Maximum value for perfect numbers\n",
    "\n",
    "# --- Step 2: Find perfect numbers using Euclid's recipe ---\n",
    "def is_prime(n):\n",
    "    if n <= 1:\n",
    "        return False\n",
    "    if n <= 3:\n",
    "        return True\n",
    "    if n % 2 == 0 or n % 3 == 0:\n",
    "        return False\n",
    "    i = 5\n",
    "    while i * i <= n:\n",
    "        if n % i == 0 or n % (i + 2) == 0:\n",
    "            return False\n",
    "        i += 6\n",
    "    return True\n",
    "\n",
    "def perfect_numbers(limit):\n",
    "    results = []\n",
    "    for p in range(2, 31):  # reasonable upper range\n",
    "        if is_prime(2**p - 1):\n",
    "            perfect = 2**(p - 1) * (2**p - 1)\n",
    "            if perfect <= limit:\n",
    "                results.append(perfect)\n",
    "            else:\n",
    "                break\n",
    "    return results\n",
    "\n",
    "with open(\"perfect_numbers.txt\", \"w\") as f:\n",
    "    for num in perfect_numbers(limit):\n",
    "        f.write(f\"{num}\\n\")\n",
    "\n",
    "# --- Step 3: Read and show the results ---\n",
    "with open(\"perfect_numbers.txt\") as f:\n",
    "    print(\"Perfect numbers up to 2^20:\")\n",
    "    print(f.read())\n"
   ]
  },
  {
   "cell_type": "code",
   "execution_count": 20,
   "metadata": {},
   "outputs": [],
   "source": [
    "def is_prime(n):\n",
    "    if n <= 1:\n",
    "        return False\n",
    "    if n <= 3:\n",
    "        return True\n",
    "    if n % 2 == 0 or n % 3 == 0:\n",
    "        return False\n",
    "    i = 5\n",
    "    while i * i <= n:\n",
    "        if n % i == 0 or n % (i + 2) == 0:\n",
    "            return False\n",
    "        i += 6\n",
    "    return True\n",
    "\n",
    "def perfect_numbers(limit):\n",
    "    results = []\n",
    "    for p in range(2, 31):\n",
    "        if is_prime(2**p - 1):\n",
    "            perfect = 2**(p - 1) * (2**p - 1)\n",
    "            if perfect <= limit:\n",
    "                results.append(perfect)\n",
    "            else:\n",
    "                break\n",
    "    return results\n",
    "\n",
    "with open(\"perfect_numbers.txt\", \"w\") as f:\n",
    "    for num in perfect_numbers(limit):\n",
    "        f.write(f\"{num}\\n\")"
   ]
  }
 ],
 "metadata": {
  "kernelspec": {
   "display_name": "Python 3",
   "language": "python",
   "name": "python3"
  },
  "language_info": {
   "codemirror_mode": {
    "name": "ipython",
    "version": 3
   },
   "file_extension": ".py",
   "mimetype": "text/x-python",
   "name": "python",
   "nbconvert_exporter": "python",
   "pygments_lexer": "ipython3",
   "version": "3.12.1"
  },
  "toc": {
   "base_numbering": 1,
   "nav_menu": {},
   "number_sections": true,
   "sideBar": true,
   "skip_h1_title": false,
   "title_cell": "Table of Contents",
   "title_sidebar": "Contents",
   "toc_cell": false,
   "toc_position": {},
   "toc_section_display": true,
   "toc_window_display": false
  }
 },
 "nbformat": 4,
 "nbformat_minor": 4
}
