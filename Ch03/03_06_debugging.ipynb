{
 "cells": [
  {
   "cell_type": "markdown",
   "metadata": {},
   "source": [
    "# 03_06_debugging.ipynb - Debugging  with ipdb"
   ]
  },
  {
   "cell_type": "code",
   "execution_count": 1,
   "metadata": {},
   "outputs": [],
   "source": [
    "import math"
   ]
  },
  {
   "cell_type": "code",
   "execution_count": 2,
   "metadata": {},
   "outputs": [],
   "source": [
    "import numpy as np\n",
    "import scipy\n",
    "import scipy.integrate as si\n",
    "import matplotlib.pyplot as pp"
   ]
  },
  {
   "cell_type": "code",
   "execution_count": 4,
   "metadata": {},
   "outputs": [],
   "source": [
    "import astropy\n",
    "import astropy.time\n",
    "import astropy.coordinates\n",
    "import astropy.units\n",
    "import astropy.constants"
   ]
  },
  {
   "cell_type": "code",
   "execution_count": 5,
   "metadata": {},
   "outputs": [],
   "source": [
    "# IAU 2012 values from from http://maia.usno.navy.mil/NSFA/NSFA_cbe.html\n",
    "\n",
    "bodies = ['sun','mercury','venus','earth','mars','jupiter','saturn','uranus','neptune']\n",
    "\n",
    "# dictionary of masses\n",
    "massdict = {'sun': 1.0,\n",
    "            'mercury': 1.6601209949637026e-07,\n",
    "            'venus': 2.4478382857373332e-06,\n",
    "            'earth': 3.0034896946063695e-06,\n",
    "            'mars': 3.227156037857755e-07,\n",
    "            'jupiter': 0.0009547918983127075,\n",
    "            'saturn': 0.00028588567008942334,\n",
    "            'uranus': 4.3662495719438076e-05,\n",
    "            'neptune': 5.151383713179197e-05}\n",
    "\n",
    "# array of masses\n",
    "masses = np.array([massdict[body] for body in bodies])"
   ]
  },
  {
   "cell_type": "code",
   "execution_count": 6,
   "metadata": {},
   "outputs": [],
   "source": [
    "G = astropy.constants.G.to('AU^3 / (Msun d^2)')"
   ]
  },
  {
   "cell_type": "code",
   "execution_count": 7,
   "metadata": {},
   "outputs": [
    {
     "name": "stderr",
     "output_type": "stream",
     "text": [
      "/home/codespace/.python/current/lib/python3.12/site-packages/erfa/core.py:133: ErfaWarning: ERFA function \"dtf2d\" yielded 1 of \"dubious year (Note 6)\"\n",
      "  warn(f'ERFA function \"{func_name}\" yielded {wmsg}', ErfaWarning)\n"
     ]
    }
   ],
   "source": [
    "t0, t1 = astropy.time.Time('2021-07-04'), astropy.time.Time('2031-07-04')"
   ]
  },
  {
   "cell_type": "code",
   "execution_count": 8,
   "metadata": {},
   "outputs": [],
   "source": [
    "def get_posvel(body, t):\n",
    "    posvel = astropy.coordinates.get_body_barycentric_posvel(body, t)\n",
    "    \n",
    "    return np.hstack([posvel[0].xyz.value.T, posvel[1].xyz.value.T])"
   ]
  },
  {
   "cell_type": "code",
   "execution_count": 9,
   "metadata": {},
   "outputs": [],
   "source": [
    "y0 = np.array([get_posvel(body, t0) for body in bodies])"
   ]
  },
  {
   "cell_type": "code",
   "execution_count": 10,
   "metadata": {},
   "outputs": [],
   "source": [
    "def ydot(t, y):\n",
    "    # how many bodies? make sure the answer is an integer\n",
    "    n = int(y.shape[0] / 6)\n",
    "\n",
    "    # make an empty container for the derivatives\n",
    "    yd = np.zeros_like(y)\n",
    "    \n",
    "    # for each body\n",
    "    for i in range(n):\n",
    "        # set x_i' = v_i (array slice assignment)\n",
    "        yd[i*6:i*6+3] = y[i*6+3:i*6+6]\n",
    "        \n",
    "        # loop over all other bodies\n",
    "        for j in range(n):\n",
    "            if i == j:\n",
    "                continue\n",
    "\n",
    "            # add contribution of planet j to v_i'\n",
    "            rij = y[j*6:j*6+3] - y[i*6:i*6+3]\n",
    "            yd[i*6+3:i*6+6] += G * masses[j] * rij / np.dot(rij,rij)\n",
    "    \n",
    "    return yd"
   ]
  },
  {
   "cell_type": "code",
   "execution_count": 11,
   "metadata": {},
   "outputs": [
    {
     "data": {
      "text/plain": [
       "array([[ 2.02987462e-01, -9.08236814e-01, -3.93560929e-01,\n",
       "         1.65489414e-02,  3.20200963e-03,  1.38765895e-03],\n",
       "       [-1.48108634e+00,  6.94567945e-01,  3.58383718e-01,\n",
       "        -5.99579632e-03, -1.02388807e-02, -4.53432074e-03],\n",
       "       [ 4.00222927e+00, -2.76183300e+00, -1.28120815e+00,\n",
       "         4.47340372e-03,  5.88774592e-03,  2.41491048e-03],\n",
       "       [ 0.00000000e+00,  0.00000000e+00,  0.00000000e+00,\n",
       "         0.00000000e+00,  0.00000000e+00,  0.00000000e+00],\n",
       "       [ 0.00000000e+00,  0.00000000e+00,  0.00000000e+00,\n",
       "         0.00000000e+00,  0.00000000e+00,  0.00000000e+00],\n",
       "       [ 0.00000000e+00,  0.00000000e+00,  0.00000000e+00,\n",
       "         0.00000000e+00,  0.00000000e+00,  0.00000000e+00],\n",
       "       [ 0.00000000e+00,  0.00000000e+00,  0.00000000e+00,\n",
       "         0.00000000e+00,  0.00000000e+00,  0.00000000e+00],\n",
       "       [ 0.00000000e+00,  0.00000000e+00,  0.00000000e+00,\n",
       "         0.00000000e+00,  0.00000000e+00,  0.00000000e+00],\n",
       "       [ 0.00000000e+00,  0.00000000e+00,  0.00000000e+00,\n",
       "         0.00000000e+00,  0.00000000e+00,  0.00000000e+00]])"
      ]
     },
     "execution_count": 11,
     "metadata": {},
     "output_type": "execute_result"
    }
   ],
   "source": [
    "ydot(t0, y0)"
   ]
  },
  {
   "cell_type": "code",
   "execution_count": 12,
   "metadata": {},
   "outputs": [
    {
     "data": {
      "text/plain": [
       "(9, 6)"
      ]
     },
     "execution_count": 12,
     "metadata": {},
     "output_type": "execute_result"
    }
   ],
   "source": [
    "ydot(t0, y0).shape"
   ]
  },
  {
   "cell_type": "code",
   "execution_count": 13,
   "metadata": {},
   "outputs": [
    {
     "name": "stdout",
     "output_type": "stream",
     "text": [
      "NOTE: Enter 'c' at the ipdb>  prompt to continue execution.\n",
      "> \u001b[32m<string>\u001b[39m(\u001b[92m1\u001b[39m)\u001b[36m<module>\u001b[39m\u001b[34m()\u001b[39m\n",
      "\n"
     ]
    }
   ],
   "source": [
    "%debug ydot(t0, y0)"
   ]
  },
  {
   "cell_type": "code",
   "execution_count": null,
   "metadata": {},
   "outputs": [],
   "source": [
    "y0 = np.array([get_posvel(body, t0) for body in bodies]).flatten()"
   ]
  },
  {
   "cell_type": "code",
   "execution_count": null,
   "metadata": {},
   "outputs": [],
   "source": [
    "y0.shape"
   ]
  },
  {
   "cell_type": "code",
   "execution_count": null,
   "metadata": {},
   "outputs": [],
   "source": [
    "ydot(t0, y0)"
   ]
  },
  {
   "cell_type": "code",
   "execution_count": null,
   "metadata": {},
   "outputs": [],
   "source": [
    "%debug"
   ]
  },
  {
   "cell_type": "code",
   "execution_count": null,
   "metadata": {},
   "outputs": [],
   "source": [
    "G = astropy.constants.G.to('AU^3 / (Msun d^2)').value"
   ]
  },
  {
   "cell_type": "code",
   "execution_count": null,
   "metadata": {},
   "outputs": [],
   "source": [
    "ydot(t0, y0)"
   ]
  },
  {
   "cell_type": "code",
   "execution_count": null,
   "metadata": {},
   "outputs": [],
   "source": [
    "orbits = scipy.integrate.solve_ivp(ydot, [t0.mjd, t1.mjd], y0, rtol=1e-9, atol=1e-9)"
   ]
  },
  {
   "cell_type": "code",
   "execution_count": null,
   "metadata": {},
   "outputs": [],
   "source": [
    "for i in range(9):\n",
    "    pp.plot(orbits.y[i*6,:], orbits.y[i*6+1,:], label=bodies[i])\n",
    "\n",
    "pp.legend()\n",
    "pp.axis('equal');"
   ]
  },
  {
   "cell_type": "code",
   "execution_count": null,
   "metadata": {},
   "outputs": [],
   "source": [
    "pp.plot(orbits.y[5*6,:], orbits.y[5*6+1,:])\n",
    "pp.axis('equal');"
   ]
  },
  {
   "cell_type": "code",
   "execution_count": null,
   "metadata": {},
   "outputs": [],
   "source": [
    "def ydot(t, y):\n",
    "    # how many bodies? make sure the answer is an integer\n",
    "    n = int(y.shape[0] / 6)\n",
    "\n",
    "    # make an empty container for the derivatives\n",
    "    yd = np.zeros_like(y)\n",
    "    \n",
    "    # for each body\n",
    "    for i in range(n):\n",
    "        # set x_i' = v_i (array slice assignment)\n",
    "        yd[i*6:i*6+3] = y[i*6+3:i*6+6]\n",
    "        \n",
    "        # loop over all other bodies\n",
    "        for j in range(n):\n",
    "            if i == j:\n",
    "                continue\n",
    "\n",
    "            # add contribution of planet j to v_i'\n",
    "            rij = y[j*6:j*6+3] - y[i*6:i*6+3]\n",
    "            yd[i*6+3:i*6+6] += G * masses[j] * rij / np.dot(rij,rij)\n",
    "    \n",
    "    return yd"
   ]
  },
  {
   "cell_type": "code",
   "execution_count": null,
   "metadata": {},
   "outputs": [],
   "source": [
    "%debug ydot(t0, y0)"
   ]
  },
  {
   "cell_type": "code",
   "execution_count": null,
   "metadata": {},
   "outputs": [],
   "source": [
    "def ydot(t, y):\n",
    "    # how many bodies? make sure the answer is an integer\n",
    "    n = int(y.shape[0] / 6)\n",
    "\n",
    "    # make an empty container for the derivatives\n",
    "    yd = np.zeros_like(y)\n",
    "    \n",
    "    # for each body\n",
    "    for i in range(n):\n",
    "        # set x_i' = v_i (array slice assignment)\n",
    "        yd[i*6:i*6+3] = y[i*6+3:i*6+6]\n",
    "        \n",
    "        # loop over all other bodies\n",
    "        for j in range(n):\n",
    "            if i == j:\n",
    "                continue\n",
    "\n",
    "            # add contribution of planet j to v_i'\n",
    "            rij = y[j*6:j*6+3] - y[i*6:i*6+3]\n",
    "            yd[i*6+3:i*6+6] += G * masses[j] * rij / np.dot(rij,rij)**1.5\n",
    "    \n",
    "    return yd"
   ]
  },
  {
   "cell_type": "code",
   "execution_count": null,
   "metadata": {},
   "outputs": [],
   "source": [
    "orbits = scipy.integrate.solve_ivp(ydot, [t0.mjd, t1.mjd], y0, rtol=1e-9, atol=1e-9)"
   ]
  },
  {
   "cell_type": "code",
   "execution_count": null,
   "metadata": {},
   "outputs": [],
   "source": [
    "for i in range(9):\n",
    "    pp.plot(orbits.y[i*6,:], orbits.y[i*6+1,:], label=bodies[i])\n",
    "\n",
    "pp.legend()\n",
    "pp.axis('equal');"
   ]
  }
 ],
 "metadata": {
  "kernelspec": {
   "display_name": "Python 3",
   "language": "python",
   "name": "python3"
  },
  "language_info": {
   "codemirror_mode": {
    "name": "ipython",
    "version": 3
   },
   "file_extension": ".py",
   "mimetype": "text/x-python",
   "name": "python",
   "nbconvert_exporter": "python",
   "pygments_lexer": "ipython3",
   "version": "3.12.1"
  },
  "toc": {
   "base_numbering": 1,
   "nav_menu": {},
   "number_sections": true,
   "sideBar": true,
   "skip_h1_title": false,
   "title_cell": "Table of Contents",
   "title_sidebar": "Contents",
   "toc_cell": false,
   "toc_position": {},
   "toc_section_display": true,
   "toc_window_display": false
  }
 },
 "nbformat": 4,
 "nbformat_minor": 4
}
